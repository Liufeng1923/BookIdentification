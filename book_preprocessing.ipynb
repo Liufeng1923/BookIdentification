{
 "cells": [
  {
   "cell_type": "code",
   "execution_count": 2,
   "metadata": {
    "collapsed": true
   },
   "outputs": [],
   "source": [
    "import cv2\n",
    "import numpy as np"
   ]
  },
  {
   "cell_type": "code",
   "execution_count": null,
   "outputs": [],
   "source": [
    "\n",
    "\n",
    "def empty(a):\n",
    "    pass\n",
    "\n",
    "def stackImages(scale,imgArray):\n",
    "    rows = len(imgArray)\n",
    "    cols = len(imgArray[0])\n",
    "    rowsAvailable = isinstance(imgArray[0], list)\n",
    "    width = imgArray[0][0].shape[1]\n",
    "    height = imgArray[0][0].shape[0]\n",
    "    if rowsAvailable:\n",
    "        for x in range ( 0, rows):\n",
    "            for y in range(0, cols):\n",
    "                if imgArray[x][y].shape[:2] == imgArray[0][0].shape [:2]:\n",
    "                    imgArray[x][y] = cv2.resize(imgArray[x][y], (0, 0), None, scale, scale)\n",
    "                else:\n",
    "                    imgArray[x][y] = cv2.resize(imgArray[x][y], (imgArray[0][0].shape[1], imgArray[0][0].shape[0]), None, scale, scale)\n",
    "                if len(imgArray[x][y].shape) == 2: imgArray[x][y]= cv2.cvtColor( imgArray[x][y], cv2.COLOR_GRAY2BGR)\n",
    "        imageBlank = np.zeros((height, width, 3), np.uint8)\n",
    "        hor = [imageBlank]*rows\n",
    "        hor_con = [imageBlank]*rows\n",
    "        for x in range(0, rows):\n",
    "            hor[x] = np.hstack(imgArray[x])\n",
    "        ver = np.vstack(hor)\n",
    "    else:\n",
    "        for x in range(0, rows):\n",
    "            if imgArray[x].shape[:2] == imgArray[0].shape[:2]:\n",
    "                imgArray[x] = cv2.resize(imgArray[x], (0, 0), None, scale, scale)\n",
    "            else:\n",
    "                imgArray[x] = cv2.resize(imgArray[x], (imgArray[0].shape[1], imgArray[0].shape[0]), None,scale, scale)\n",
    "            if len(imgArray[x].shape) == 2: imgArray[x] = cv2.cvtColor(imgArray[x], cv2.COLOR_GRAY2BGR)\n",
    "        hor= np.hstack(imgArray)\n",
    "        ver = hor\n",
    "    return ver\n",
    "\n",
    "\n",
    "\n",
    "path = 'test_books_images/test_image_1.jpg'\n",
    "cv2.namedWindow(\"TrackBars\")\n",
    "cv2.resizeWindow(\"TrackBars\",640,240)\n",
    "cv2.createTrackbar(\"Hue Min\",\"TrackBars\",0,179,empty)\n",
    "cv2.createTrackbar(\"Hue Max\",\"TrackBars\",19,179,empty)\n",
    "cv2.createTrackbar(\"Sat Min\",\"TrackBars\",110,255,empty)\n",
    "cv2.createTrackbar(\"Sat Max\",\"TrackBars\",240,255,empty)\n",
    "cv2.createTrackbar(\"Val Min\",\"TrackBars\",153,255,empty)\n",
    "cv2.createTrackbar(\"Val Max\",\"TrackBars\",255,255,empty)"
   ],
   "metadata": {
    "collapsed": false
   }
  },
  {
   "cell_type": "code",
   "execution_count": 3,
   "outputs": [
    {
     "ename": "NameError",
     "evalue": "name 'path' is not defined",
     "output_type": "error",
     "traceback": [
      "\u001B[1;31m---------------------------------------------------------------------------\u001B[0m",
      "\u001B[1;31mNameError\u001B[0m                                 Traceback (most recent call last)",
      "\u001B[1;32m<ipython-input-3-afdd2cbd49a1>\u001B[0m in \u001B[0;36m<module>\u001B[1;34m\u001B[0m\n\u001B[0;32m      1\u001B[0m \u001B[1;32mwhile\u001B[0m \u001B[1;32mTrue\u001B[0m\u001B[1;33m:\u001B[0m\u001B[1;33m\u001B[0m\u001B[1;33m\u001B[0m\u001B[0m\n\u001B[1;32m----> 2\u001B[1;33m     \u001B[0mimg\u001B[0m \u001B[1;33m=\u001B[0m \u001B[0mcv2\u001B[0m\u001B[1;33m.\u001B[0m\u001B[0mimread\u001B[0m\u001B[1;33m(\u001B[0m\u001B[0mpath\u001B[0m\u001B[1;33m)\u001B[0m\u001B[1;33m\u001B[0m\u001B[1;33m\u001B[0m\u001B[0m\n\u001B[0m\u001B[0;32m      3\u001B[0m     \u001B[0mimgHSV\u001B[0m \u001B[1;33m=\u001B[0m \u001B[0mcv2\u001B[0m\u001B[1;33m.\u001B[0m\u001B[0mcvtColor\u001B[0m\u001B[1;33m(\u001B[0m\u001B[0mimg\u001B[0m\u001B[1;33m,\u001B[0m\u001B[0mcv2\u001B[0m\u001B[1;33m.\u001B[0m\u001B[0mCOLOR_BGR2HSV\u001B[0m\u001B[1;33m)\u001B[0m\u001B[1;33m\u001B[0m\u001B[1;33m\u001B[0m\u001B[0m\n\u001B[0;32m      4\u001B[0m     \u001B[0mh_min\u001B[0m \u001B[1;33m=\u001B[0m \u001B[0mcv2\u001B[0m\u001B[1;33m.\u001B[0m\u001B[0mgetTrackbarPos\u001B[0m\u001B[1;33m(\u001B[0m\u001B[1;34m\"Hue Min\"\u001B[0m\u001B[1;33m,\u001B[0m\u001B[1;34m\"TrackBars\"\u001B[0m\u001B[1;33m)\u001B[0m\u001B[1;33m\u001B[0m\u001B[1;33m\u001B[0m\u001B[0m\n\u001B[0;32m      5\u001B[0m     \u001B[0mh_max\u001B[0m \u001B[1;33m=\u001B[0m \u001B[0mcv2\u001B[0m\u001B[1;33m.\u001B[0m\u001B[0mgetTrackbarPos\u001B[0m\u001B[1;33m(\u001B[0m\u001B[1;34m\"Hue Max\"\u001B[0m\u001B[1;33m,\u001B[0m \u001B[1;34m\"TrackBars\"\u001B[0m\u001B[1;33m)\u001B[0m\u001B[1;33m\u001B[0m\u001B[1;33m\u001B[0m\u001B[0m\n",
      "\u001B[1;31mNameError\u001B[0m: name 'path' is not defined"
     ]
    }
   ],
   "source": [
    "\n",
    "while True:\n",
    "    img = cv2.imread(path)\n",
    "    imgHSV = cv2.cvtColor(img,cv2.COLOR_BGR2HSV)\n",
    "    h_min = cv2.getTrackbarPos(\"Hue Min\",\"TrackBars\")\n",
    "    h_max = cv2.getTrackbarPos(\"Hue Max\", \"TrackBars\")\n",
    "    s_min = cv2.getTrackbarPos(\"Sat Min\", \"TrackBars\")\n",
    "    s_max = cv2.getTrackbarPos(\"Sat Max\", \"TrackBars\")\n",
    "    v_min = cv2.getTrackbarPos(\"Val Min\", \"TrackBars\")\n",
    "    v_max = cv2.getTrackbarPos(\"Val Max\", \"TrackBars\")\n",
    "    print(h_min,h_max,s_min,s_max,v_min,v_max)\n",
    "    lower = np.array([h_min,s_min,v_min])\n",
    "    upper = np.array([h_max,s_max,v_max])\n",
    "    mask = cv2.inRange(imgHSV,lower,upper)\n",
    "    imgResult = cv2.bitwise_and(img,img,mask=mask)\n",
    "\n",
    "\n",
    "    # cv2.imshow(\"Original\",img)\n",
    "    # cv2.imshow(\"HSV\",imgHSV)\n",
    "    # cv2.imshow(\"Mask\", mask)\n",
    "    # cv2.imshow(\"Result\", imgResult)\n",
    "\n",
    "    imgStack = stackImages(0.3,([img,imgHSV],[mask,imgResult]))\n",
    "    cv2.imshow(\"Stacked Images\", imgStack)\n",
    "    # cv2.resizeWindow(\"Stacked Images\", 800, 600)  # 将窗口大小调整为800x600像素\n",
    "    cv2.waitKey(1)"
   ],
   "metadata": {
    "collapsed": false
   }
  },
  {
   "cell_type": "code",
   "execution_count": 9,
   "outputs": [],
   "source": [
    "img = cv2.imread(\"test_books_images/test_image_1.jpg\")\n",
    "imgHSV = cv2.cvtColor(img,cv2.COLOR_BGR2HSV)\n",
    "lower = np.array([0,125,180])\n",
    "upper = np.array([80,235,255])\n",
    "mask = cv2.inRange(imgHSV,lower,upper)\n",
    "imgResult = cv2.bitwise_and(img,img,mask=mask)\n",
    "cv2.imshow(\"Image\", imgResult)\n",
    "cv2.waitKey(0)\n",
    "cv2.destroyAllWindows()"
   ],
   "metadata": {
    "collapsed": false
   }
  },
  {
   "cell_type": "code",
   "execution_count": null,
   "outputs": [],
   "source": [],
   "metadata": {
    "collapsed": false
   }
  },
  {
   "cell_type": "code",
   "execution_count": 17,
   "outputs": [
    {
     "ename": "error",
     "evalue": "OpenCV(4.5.3) C:\\Users\\runneradmin\\AppData\\Local\\Temp\\pip-req-build-u4kjpz2z\\opencv\\modules\\highgui\\src\\window.cpp:868: error: (-215:Assertion failed) trackbar in function 'cv::getTrackbarPos'\n",
     "output_type": "error",
     "traceback": [
      "\u001B[1;31m---------------------------------------------------------------------------\u001B[0m",
      "\u001B[1;31merror\u001B[0m                                     Traceback (most recent call last)",
      "\u001B[1;32m<ipython-input-17-92dcb87dd1e9>\u001B[0m in \u001B[0;36mupdateThresholds\u001B[1;34m(x)\u001B[0m\n\u001B[0;32m     25\u001B[0m \u001B[1;32mdef\u001B[0m \u001B[0mupdateThresholds\u001B[0m\u001B[1;33m(\u001B[0m\u001B[0mx\u001B[0m\u001B[1;33m)\u001B[0m\u001B[1;33m:\u001B[0m\u001B[1;33m\u001B[0m\u001B[1;33m\u001B[0m\u001B[0m\n\u001B[0;32m     26\u001B[0m     \u001B[0mlower_threshold\u001B[0m \u001B[1;33m=\u001B[0m \u001B[0mcv2\u001B[0m\u001B[1;33m.\u001B[0m\u001B[0mgetTrackbarPos\u001B[0m\u001B[1;33m(\u001B[0m\u001B[1;34m\"Lower Threshold\"\u001B[0m\u001B[1;33m,\u001B[0m \u001B[1;34m\"Edge Detection\"\u001B[0m\u001B[1;33m)\u001B[0m\u001B[1;33m\u001B[0m\u001B[1;33m\u001B[0m\u001B[0m\n\u001B[1;32m---> 27\u001B[1;33m     \u001B[0mupper_threshold\u001B[0m \u001B[1;33m=\u001B[0m \u001B[0mcv2\u001B[0m\u001B[1;33m.\u001B[0m\u001B[0mgetTrackbarPos\u001B[0m\u001B[1;33m(\u001B[0m\u001B[1;34m\"Upper Threshold\"\u001B[0m\u001B[1;33m,\u001B[0m \u001B[1;34m\"Edge Detection\"\u001B[0m\u001B[1;33m)\u001B[0m\u001B[1;33m\u001B[0m\u001B[1;33m\u001B[0m\u001B[0m\n\u001B[0m\u001B[0;32m     28\u001B[0m \u001B[1;33m\u001B[0m\u001B[0m\n\u001B[0;32m     29\u001B[0m     \u001B[0medges\u001B[0m \u001B[1;33m=\u001B[0m \u001B[0mcv2\u001B[0m\u001B[1;33m.\u001B[0m\u001B[0mCanny\u001B[0m\u001B[1;33m(\u001B[0m\u001B[0mgray\u001B[0m\u001B[1;33m,\u001B[0m \u001B[0mlower_threshold\u001B[0m\u001B[1;33m,\u001B[0m \u001B[0mupper_threshold\u001B[0m\u001B[1;33m)\u001B[0m\u001B[1;33m\u001B[0m\u001B[1;33m\u001B[0m\u001B[0m\n",
      "\u001B[1;31merror\u001B[0m: OpenCV(4.5.3) C:\\Users\\runneradmin\\AppData\\Local\\Temp\\pip-req-build-u4kjpz2z\\opencv\\modules\\highgui\\src\\window.cpp:868: error: (-215:Assertion failed) trackbar in function 'cv::getTrackbarPos'\n"
     ]
    }
   ],
   "source": [
    "import cv2\n",
    "import numpy as np\n",
    "# import pytesseract\n",
    "import matplotlib.pyplot as plt\n",
    "\n",
    "# 读取图像\n",
    "img = cv2.imread(\"test_books_images/test_image_1.jpg\")\n",
    "imgHSV = cv2.cvtColor(img, cv2.COLOR_BGR2HSV)\n",
    "\n",
    "# 定义红色区域的HSV范围\n",
    "lower_red = np.array([0, 125, 180])\n",
    "upper_red = np.array([80, 235, 255])\n",
    "\n",
    "# 创建红色区域的掩码\n",
    "mask = cv2.inRange(imgHSV, lower_red, upper_red)\n",
    "imgResult = cv2.bitwise_and(img,img,mask=mask)\n",
    "gray = cv2.cvtColor(imgResult, cv2.COLOR_BGR2GRAY)\n",
    "edges = cv2.Canny(gray, 50, 120)\n",
    "# contours, hierarchy = cv2.findContours(edges, cv2.RETR_LIST, cv2.CHAIN_APPROX_SIMPLE)\n",
    "# for cnt in contours:\n",
    "#     approx = cv2.approxPolyDP(cnt, 0.01*cv2.arcLength(cnt,True),True)\n",
    "#     if len(approx) == 4:\n",
    "#         cv2.drawContours(img,[approx],0,(0,255,0),3)\n",
    "\n",
    "def updateThresholds(x):\n",
    "    lower_threshold = cv2.getTrackbarPos(\"Lower Threshold\", \"Edge Detection\")\n",
    "    upper_threshold = cv2.getTrackbarPos(\"Upper Threshold\", \"Edge Detection\")\n",
    "\n",
    "    edges = cv2.Canny(gray, lower_threshold, upper_threshold)\n",
    "    cv2.imshow(\"Edge Detection\", edges)\n",
    "\n",
    "# 创建窗口和滑动条\n",
    "cv2.namedWindow(\"Edge Detection\")\n",
    "cv2.createTrackbar(\"Lower Threshold\", \"Edge Detection\", 50, 255, updateThresholds)\n",
    "cv2.createTrackbar(\"Upper Threshold\", \"Edge Detection\", 120, 255, updateThresholds)\n",
    "\n",
    "# 初始边缘检测\n",
    "cv2.imshow(\"Edge Detection\", edges)\n",
    "\n",
    "cv2.waitKey(0)\n",
    "cv2.destroyAllWindows()\n"
   ],
   "metadata": {
    "collapsed": false
   }
  },
  {
   "cell_type": "code",
   "execution_count": 15,
   "outputs": [
    {
     "ename": "error",
     "evalue": "OpenCV(4.5.3) C:\\Users\\runneradmin\\AppData\\Local\\Temp\\pip-req-build-u4kjpz2z\\opencv\\modules\\highgui\\src\\window.cpp:868: error: (-215:Assertion failed) trackbar in function 'cv::getTrackbarPos'\n",
     "output_type": "error",
     "traceback": [
      "\u001B[1;31m---------------------------------------------------------------------------\u001B[0m",
      "\u001B[1;31merror\u001B[0m                                     Traceback (most recent call last)",
      "\u001B[1;32m<ipython-input-15-c2966cd9398f>\u001B[0m in \u001B[0;36mupdateThresholds\u001B[1;34m(x)\u001B[0m\n\u001B[0;32m      1\u001B[0m \u001B[1;32mdef\u001B[0m \u001B[0mupdateThresholds\u001B[0m\u001B[1;33m(\u001B[0m\u001B[0mx\u001B[0m\u001B[1;33m)\u001B[0m\u001B[1;33m:\u001B[0m\u001B[1;33m\u001B[0m\u001B[1;33m\u001B[0m\u001B[0m\n\u001B[0;32m      2\u001B[0m     \u001B[0mlower_threshold\u001B[0m \u001B[1;33m=\u001B[0m \u001B[0mcv2\u001B[0m\u001B[1;33m.\u001B[0m\u001B[0mgetTrackbarPos\u001B[0m\u001B[1;33m(\u001B[0m\u001B[1;34m\"Lower Threshold\"\u001B[0m\u001B[1;33m,\u001B[0m \u001B[1;34m\"Edge Detection\"\u001B[0m\u001B[1;33m)\u001B[0m\u001B[1;33m\u001B[0m\u001B[1;33m\u001B[0m\u001B[0m\n\u001B[1;32m----> 3\u001B[1;33m     \u001B[0mupper_threshold\u001B[0m \u001B[1;33m=\u001B[0m \u001B[0mcv2\u001B[0m\u001B[1;33m.\u001B[0m\u001B[0mgetTrackbarPos\u001B[0m\u001B[1;33m(\u001B[0m\u001B[1;34m\"Upper Threshold\"\u001B[0m\u001B[1;33m,\u001B[0m \u001B[1;34m\"Edge Detection\"\u001B[0m\u001B[1;33m)\u001B[0m\u001B[1;33m\u001B[0m\u001B[1;33m\u001B[0m\u001B[0m\n\u001B[0m\u001B[0;32m      4\u001B[0m \u001B[1;33m\u001B[0m\u001B[0m\n\u001B[0;32m      5\u001B[0m     \u001B[0medges\u001B[0m \u001B[1;33m=\u001B[0m \u001B[0mcv2\u001B[0m\u001B[1;33m.\u001B[0m\u001B[0mCanny\u001B[0m\u001B[1;33m(\u001B[0m\u001B[0mgray\u001B[0m\u001B[1;33m,\u001B[0m \u001B[0mlower_threshold\u001B[0m\u001B[1;33m,\u001B[0m \u001B[0mupper_threshold\u001B[0m\u001B[1;33m)\u001B[0m\u001B[1;33m\u001B[0m\u001B[1;33m\u001B[0m\u001B[0m\n",
      "\u001B[1;31merror\u001B[0m: OpenCV(4.5.3) C:\\Users\\runneradmin\\AppData\\Local\\Temp\\pip-req-build-u4kjpz2z\\opencv\\modules\\highgui\\src\\window.cpp:868: error: (-215:Assertion failed) trackbar in function 'cv::getTrackbarPos'\n"
     ]
    }
   ],
   "source": [
    "def updateThresholds(x):\n",
    "    lower_threshold = cv2.getTrackbarPos(\"Lower Threshold\", \"Edge Detection\")\n",
    "    upper_threshold = cv2.getTrackbarPos(\"Upper Threshold\", \"Edge Detection\")\n",
    "\n",
    "    edges = cv2.Canny(gray, lower_threshold, upper_threshold)\n",
    "    cv2.imshow(\"Edge Detection\", edges)\n",
    "\n",
    "# 读取图像并进行灰度化\n",
    "img = cv2.imread(\"test_books_images/test_image_1.jpg\")\n",
    "gray = cv2.cvtColor(img, cv2.COLOR_BGR2GRAY)\n",
    "\n",
    "# 创建窗口和滑动条\n",
    "cv2.namedWindow(\"Edge Detection\")\n",
    "cv2.createTrackbar(\"Lower Threshold\", \"Edge Detection\", 50, 255, updateThresholds)\n",
    "cv2.createTrackbar(\"Upper Threshold\", \"Edge Detection\", 120, 255, updateThresholds)\n",
    "\n",
    "# 初始边缘检测\n",
    "edges = cv2.Canny(gray, 50, 120)\n",
    "cv2.imshow(\"Edge Detection\", edges)\n",
    "\n",
    "cv2.waitKey(0)\n",
    "cv2.destroyAllWindows()"
   ],
   "metadata": {
    "collapsed": false
   }
  },
  {
   "cell_type": "code",
   "execution_count": 23,
   "outputs": [],
   "source": [
    "img = cv2.imread(\"test_books_images/test_image_1.jpg\")\n",
    "imgHSV = cv2.cvtColor(img, cv2.COLOR_BGR2HSV)\n",
    "lower_red = np.array([0, 125, 180])\n",
    "upper_red = np.array([80, 235, 255])\n",
    "mask = cv2.inRange(imgHSV, lower_red, upper_red)\n",
    "imgResult = cv2.bitwise_and(img, img, mask=mask)\n",
    "gray = cv2.cvtColor(imgResult, cv2.COLOR_BGR2GRAY)\n",
    "edges = cv2.Canny(gray, 50, 120)\n",
    "\n",
    "# 寻找边缘点\n",
    "contours, _ = cv2.findContours(edges, cv2.RETR_EXTERNAL, cv2.CHAIN_APPROX_SIMPLE)\n",
    "\n",
    "# 绘制边框\n",
    "for contour in contours:\n",
    "    x, y, w, h = cv2.boundingRect(contour)\n",
    "    cv2.rectangle(img, (x, y), (x + w, y + h), (0, 255, 0), 2)\n",
    "\n",
    "# 显示结果\n",
    "cv2.imshow(\"Bounding Boxes\", edges)\n",
    "cv2.waitKey(0)\n",
    "cv2.destroyAllWindows()"
   ],
   "metadata": {
    "collapsed": false
   }
  },
  {
   "cell_type": "code",
   "execution_count": 73,
   "outputs": [],
   "source": [
    "img = cv2.imread(\"test_books_images/test_image_2.jpg\")\n",
    "imgHSV = cv2.cvtColor(img, cv2.COLOR_BGR2HSV)\n",
    "lower_red = np.array([0, 125, 180])\n",
    "upper_red = np.array([80, 235, 255])\n",
    "mask = cv2.inRange(imgHSV, lower_red, upper_red)\n",
    "imgResult = cv2.bitwise_and(img, img, mask=mask)\n",
    "gray = cv2.cvtColor(imgResult, cv2.COLOR_BGR2GRAY)\n",
    "edges = cv2.Canny(gray, 50, 120)\n",
    "kernel = np.ones((1,1),np.uint8)\n",
    "eroded_edges = cv2.erode(edges, kernel, iterations=2)\n",
    "closing = cv2.morphologyEx(eroded_edges, cv2.MORPH_CLOSE, kernel)\n",
    "# 寻找边缘点\n",
    "contours, _ = cv2.findContours(closing, cv2.RETR_EXTERNAL, cv2.CHAIN_APPROX_SIMPLE)\n",
    "\n",
    "# 绘制合并后的边框\n",
    "for contour in contours:\n",
    "    x, y, w, h = cv2.boundingRect(contour)\n",
    "    cv2.rectangle(img, (x, y), (x + w, y + h), (0, 255, 0), 2)\n",
    "\n",
    "# 显示结果\n",
    "cv2.imshow(\"Bounding Boxes\", img)\n",
    "cv2.waitKey(0)\n",
    "cv2.destroyAllWindows()"
   ],
   "metadata": {
    "collapsed": false
   }
  },
  {
   "cell_type": "code",
   "execution_count": 72,
   "outputs": [],
   "source": [
    "img = cv2.imread(\"test_books_images/test_image_2.jpg\")\n",
    "imgHSV = cv2.cvtColor(img, cv2.COLOR_BGR2HSV)\n",
    "\n",
    "# 设定颜色阈值并进行掩膜处理\n",
    "lower_red = np.array([0, 125, 180])\n",
    "upper_red = np.array([80, 235, 255])\n",
    "mask = cv2.inRange(imgHSV, lower_red, upper_red)\n",
    "imgResult = cv2.bitwise_and(img, img, mask=mask)\n",
    "\n",
    "# 转换为灰度图并检测边缘\n",
    "gray = cv2.cvtColor(imgResult, cv2.COLOR_BGR2GRAY)\n",
    "edges = cv2.Canny(gray, 50, 120)\n",
    "\n",
    "# 腐蚀和闭合操作\n",
    "kernel = np.ones((1, 1), np.uint8)\n",
    "eroded_edges = cv2.erode(edges, kernel, iterations=2)\n",
    "closing = cv2.morphologyEx(eroded_edges, cv2.MORPH_CLOSE, kernel)\n",
    "\n",
    "# 寻找轮廓\n",
    "contours, _ = cv2.findContours(closing, cv2.RETR_EXTERNAL, cv2.CHAIN_APPROX_SIMPLE)\n",
    "\n",
    "# 处理每个轮廓\n",
    "for i, contour in enumerate(contours):\n",
    "    x, y, w, h = cv2.boundingRect(contour)\n",
    "    if w > 10 and h > 10:  # 过滤掉噪声\n",
    "        # 提取矩形区域\n",
    "        rect = img[y:y+h, x:x+w]\n",
    "\n",
    "        # 使用Tesseract OCR提取文字\n",
    "        # text = pytesseract.image_to_string(rect, lang='chi_sim')  # 假设文字为中文，使用语言包chi_sim\n",
    "        # print(f'Text in rectangle {i}: {text}')\n",
    "\n",
    "        # 显示分割出来的矩形区域\n",
    "        cv2.imshow(f'Rectangle {i}', rect)\n",
    "        cv2.waitKey(0)\n",
    "\n",
    "cv2.destroyAllWindows()"
   ],
   "metadata": {
    "collapsed": false
   }
  }
 ],
 "metadata": {
  "kernelspec": {
   "display_name": "Python 3",
   "language": "python",
   "name": "python3"
  },
  "language_info": {
   "codemirror_mode": {
    "name": "ipython",
    "version": 2
   },
   "file_extension": ".py",
   "mimetype": "text/x-python",
   "name": "python",
   "nbconvert_exporter": "python",
   "pygments_lexer": "ipython2",
   "version": "2.7.6"
  }
 },
 "nbformat": 4,
 "nbformat_minor": 0
}
